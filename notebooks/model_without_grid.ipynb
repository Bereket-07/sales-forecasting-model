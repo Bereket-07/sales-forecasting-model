{
 "cells": [
  {
   "cell_type": "code",
   "execution_count": 1,
   "metadata": {},
   "outputs": [],
   "source": [
    "import sys , os \n",
    "\n",
    "sys.path.append(os.path.abspath('../scripts/model_training'))"
   ]
  },
  {
   "cell_type": "code",
   "execution_count": 2,
   "metadata": {},
   "outputs": [],
   "source": [
    "import pipeline_withotgrid as p"
   ]
  },
  {
   "cell_type": "code",
   "execution_count": 3,
   "metadata": {},
   "outputs": [
    {
     "name": "stderr",
     "output_type": "stream",
     "text": [
      "INFO:pipeline_withotgrid:Loading the dataset\n",
      "c:\\Users\\bekib\\Desktop\\10ACADAMY\\WEEK-FOUR\\week-4\\scripts\\model_training\\pipeline_withotgrid.py:87: DtypeWarning: Columns (8) have mixed types. Specify dtype option on import or set low_memory=False.\n",
      "  return pd.read_csv(path)\n",
      "INFO:pipeline_withotgrid:Separating the target variable\n",
      "INFO:pipeline_withotgrid:Target variable split complete\n",
      "INFO:pipeline_withotgrid:Splitting the data into train and test sets\n",
      "INFO:pipeline_withotgrid:Data split complete\n",
      "INFO:pipeline_withotgrid:Creating the sklearn pipeline\n",
      "INFO:pipeline_withotgrid:Sklearn pipeline created\n",
      "INFO:pipeline_withotgrid:Fitting the model\n",
      "INFO:pipeline_withotgrid:Converting categorical columns to numerical columns\n",
      "INFO:pipeline_withotgrid:Extracting new features\n",
      "INFO:pipeline_withotgrid:Model fitting completed\n",
      "INFO:pipeline_withotgrid:Converting categorical columns to numerical columns\n",
      "INFO:pipeline_withotgrid:Extracting new features\n",
      "INFO:pipeline_withotgrid:Mean Squared Error (MSE): 1279755.8657366158\n",
      "INFO:pipeline_withotgrid:Mean Absolute Error (MAE): 678.3441820537854\n",
      "INFO:pipeline_withotgrid:R-squared (R²): 0.913464500365007\n"
     ]
    },
    {
     "name": "stdout",
     "output_type": "stream",
     "text": [
      "Mean Squared Error (MSE): 1279755.8657366158\n",
      "Mean Absolute Error (MAE): 678.3441820537854\n",
      "R-squared (R²): 0.913464500365007\n"
     ]
    }
   ],
   "source": [
    "path = '../data/train.csv'\n",
    "pipeline = p.main(path)"
   ]
  },
  {
   "cell_type": "code",
   "execution_count": 4,
   "metadata": {},
   "outputs": [],
   "source": [
    "# import joblib\n",
    "# from datetime import datetime\n",
    "\n",
    "# # Assuming 'model' is your trained model\n",
    "# current_date = datetime.now().strftime(\"%Y-%m-%d\")  # Get current date in YYYY-MM-DD format\n",
    "# joblib_file = f'../models/my_model_{current_date}.joblib'  # Filename with date\n",
    "\n",
    "# # Serialize and save the model\n",
    "# joblib.dump(pipeline, joblib_file)\n",
    "# print(f\"Model serialized and saved to {joblib_file}\")"
   ]
  },
  {
   "cell_type": "code",
   "execution_count": 9,
   "metadata": {},
   "outputs": [
    {
     "name": "stderr",
     "output_type": "stream",
     "text": [
      "INFO:pipeline_withotgrid:Converting categorical columns to numerical columns\n",
      "INFO:pipeline_withotgrid:Extracting new features\n"
     ]
    },
    {
     "name": "stdout",
     "output_type": "stream",
     "text": [
      "Predicted Sales: 4959.756624090311\n"
     ]
    }
   ],
   "source": [
    "import pandas as pd\n",
    "\n",
    "# # Create the test data DataFrame with the same structure as the training data\n",
    "# test_data = pd.DataFrame({       \n",
    "#     'Store': [1],              # Store ID\n",
    "#     'DayOfWeek': [3],          # Example: Wednesday\n",
    "#     'Date': ['2024-09-30'],    # Example date         # Default value, adjust based on context\n",
    "#     'Open': [1],               # Store is open\n",
    "#     'Promo': [1],              # Store has a promotion\n",
    "#     'StateHoliday': ['0'],     # No state holiday\n",
    "#     'SchoolHoliday': [0]       # No school holiday\n",
    "# })\n",
    "\n",
    "test_data = pd.read_csv('../data/test.csv')\n",
    "\n",
    "\n",
    "# Convert 'Date' column to datetime\n",
    "test_data['Date'] = pd.to_datetime(test_data['Date'])\n",
    "\n",
    "test_data.drop('Id', axis=1, inplace=True)\n",
    "\n",
    "# Now predict using the trained pipeline\n",
    "predicted_sales = pipeline.predict(test_data)\n",
    "print(f\"Predicted Sales: {predicted_sales[0]}\")"
   ]
  },
  {
   "cell_type": "code",
   "execution_count": 11,
   "metadata": {},
   "outputs": [],
   "source": [
    "results = pd.DataFrame({\n",
    "    'Store': test_data['Store'],  # Get the Store IDs\n",
    "    'PredictedSales': predicted_sales  # Get the predicted sales\n",
    "})"
   ]
  },
  {
   "cell_type": "code",
   "execution_count": 12,
   "metadata": {},
   "outputs": [
    {
     "data": {
      "text/html": [
       "<div>\n",
       "<style scoped>\n",
       "    .dataframe tbody tr th:only-of-type {\n",
       "        vertical-align: middle;\n",
       "    }\n",
       "\n",
       "    .dataframe tbody tr th {\n",
       "        vertical-align: top;\n",
       "    }\n",
       "\n",
       "    .dataframe thead th {\n",
       "        text-align: right;\n",
       "    }\n",
       "</style>\n",
       "<table border=\"1\" class=\"dataframe\">\n",
       "  <thead>\n",
       "    <tr style=\"text-align: right;\">\n",
       "      <th></th>\n",
       "      <th>Store</th>\n",
       "      <th>PredictedSales</th>\n",
       "    </tr>\n",
       "  </thead>\n",
       "  <tbody>\n",
       "    <tr>\n",
       "      <th>0</th>\n",
       "      <td>1</td>\n",
       "      <td>4959.756624</td>\n",
       "    </tr>\n",
       "    <tr>\n",
       "      <th>1</th>\n",
       "      <td>3</td>\n",
       "      <td>7913.969063</td>\n",
       "    </tr>\n",
       "    <tr>\n",
       "      <th>2</th>\n",
       "      <td>7</td>\n",
       "      <td>8907.989928</td>\n",
       "    </tr>\n",
       "    <tr>\n",
       "      <th>3</th>\n",
       "      <td>8</td>\n",
       "      <td>7162.983940</td>\n",
       "    </tr>\n",
       "    <tr>\n",
       "      <th>4</th>\n",
       "      <td>9</td>\n",
       "      <td>6588.092724</td>\n",
       "    </tr>\n",
       "    <tr>\n",
       "      <th>...</th>\n",
       "      <td>...</td>\n",
       "      <td>...</td>\n",
       "    </tr>\n",
       "    <tr>\n",
       "      <th>41083</th>\n",
       "      <td>1111</td>\n",
       "      <td>3278.794446</td>\n",
       "    </tr>\n",
       "    <tr>\n",
       "      <th>41084</th>\n",
       "      <td>1112</td>\n",
       "      <td>8696.345486</td>\n",
       "    </tr>\n",
       "    <tr>\n",
       "      <th>41085</th>\n",
       "      <td>1113</td>\n",
       "      <td>5951.250590</td>\n",
       "    </tr>\n",
       "    <tr>\n",
       "      <th>41086</th>\n",
       "      <td>1114</td>\n",
       "      <td>22092.999618</td>\n",
       "    </tr>\n",
       "    <tr>\n",
       "      <th>41087</th>\n",
       "      <td>1115</td>\n",
       "      <td>6539.872841</td>\n",
       "    </tr>\n",
       "  </tbody>\n",
       "</table>\n",
       "<p>41077 rows × 2 columns</p>\n",
       "</div>"
      ],
      "text/plain": [
       "       Store  PredictedSales\n",
       "0          1     4959.756624\n",
       "1          3     7913.969063\n",
       "2          7     8907.989928\n",
       "3          8     7162.983940\n",
       "4          9     6588.092724\n",
       "...      ...             ...\n",
       "41083   1111     3278.794446\n",
       "41084   1112     8696.345486\n",
       "41085   1113     5951.250590\n",
       "41086   1114    22092.999618\n",
       "41087   1115     6539.872841\n",
       "\n",
       "[41077 rows x 2 columns]"
      ]
     },
     "execution_count": 12,
     "metadata": {},
     "output_type": "execute_result"
    }
   ],
   "source": [
    "results"
   ]
  },
  {
   "cell_type": "code",
   "execution_count": 13,
   "metadata": {},
   "outputs": [
    {
     "name": "stdout",
     "output_type": "stream",
     "text": [
      "Model serialized and saved to ../models/final_model2024-09-24.pkl\n"
     ]
    }
   ],
   "source": [
    "import joblib\n",
    "from datetime import datetime\n",
    "\n",
    "\n",
    "current_date = datetime.now().strftime(\"%Y-%m-%d\")  # Get current date in YYYY-MM-DD format\n",
    "joblib_file = f'../models/final_model{current_date}.pkl'  # Filename with date\n",
    "\n",
    "# Serialize and save the model\n",
    "joblib.dump(pipeline, joblib_file)\n",
    "print(f\"Model serialized and saved to {joblib_file}\")\n",
    "\n"
   ]
  },
  {
   "cell_type": "code",
   "execution_count": 14,
   "metadata": {},
   "outputs": [],
   "source": [
    "pipeline1 = joblib.load('../models/final_model2024-09-24.pkl')"
   ]
  },
  {
   "cell_type": "code",
   "execution_count": 15,
   "metadata": {},
   "outputs": [
    {
     "name": "stderr",
     "output_type": "stream",
     "text": [
      "INFO:pipeline_withotgrid:Converting categorical columns to numerical columns\n",
      "INFO:pipeline_withotgrid:Extracting new features\n"
     ]
    },
    {
     "data": {
      "text/plain": [
       "array([ 4959.75662409,  7913.96906253,  8907.98992843, ...,\n",
       "        5951.25059046, 22092.9996183 ,  6539.87284071])"
      ]
     },
     "execution_count": 15,
     "metadata": {},
     "output_type": "execute_result"
    }
   ],
   "source": [
    "pipeline1.predict(test_data)"
   ]
  }
 ],
 "metadata": {
  "kernelspec": {
   "display_name": ".week-4",
   "language": "python",
   "name": "python3"
  },
  "language_info": {
   "codemirror_mode": {
    "name": "ipython",
    "version": 3
   },
   "file_extension": ".py",
   "mimetype": "text/x-python",
   "name": "python",
   "nbconvert_exporter": "python",
   "pygments_lexer": "ipython3",
   "version": "3.12.2"
  }
 },
 "nbformat": 4,
 "nbformat_minor": 2
}
